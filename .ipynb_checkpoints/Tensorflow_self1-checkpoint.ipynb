{
 "cells": [
  {
   "cell_type": "code",
   "execution_count": 1,
   "metadata": {
    "id": "7lXoV5W86rjc"
   },
   "outputs": [],
   "source": [
    "# pip list --outdated"
   ]
  },
  {
   "cell_type": "code",
   "execution_count": 2,
   "metadata": {
    "id": "NobEpAvP6sOd"
   },
   "outputs": [],
   "source": [
    "# pip install $(pip list --outdated | tail +3 | grep -v sdist | awk '{ print $1 }') --upgrade          # colab güncelleme"
   ]
  },
  {
   "cell_type": "markdown",
   "metadata": {
    "id": "8EzrVXSm8DSD"
   },
   "source": [
    "## bir algoritmayı en fazla 12 saat çalıştırabileceğiz .\n"
   ]
  },
  {
   "cell_type": "code",
   "execution_count": 3,
   "metadata": {
    "id": "HmgHGkz4_AKR"
   },
   "outputs": [],
   "source": [
    "# !pip install --upgrade jax"
   ]
  },
  {
   "cell_type": "code",
   "execution_count": 4,
   "metadata": {
    "id": "jfKQLw2A_Ni8"
   },
   "outputs": [],
   "source": [
    "# !pip install tensorflow"
   ]
  },
  {
   "cell_type": "code",
   "execution_count": 1,
   "metadata": {
    "colab": {
     "base_uri": "https://localhost:8080/"
    },
    "id": "pVP0x9bu6sXg",
    "outputId": "9a035987-8fdc-42b3-9a4d-1b8aa36e63b1"
   },
   "outputs": [],
   "source": [
    "import tensorflow as tf "
   ]
  },
  {
   "cell_type": "code",
   "execution_count": 2,
   "metadata": {
    "colab": {
     "base_uri": "https://localhost:8080/",
     "height": 36
    },
    "id": "u5QRUVoj6sZ1",
    "outputId": "71f394f4-4ee1-430b-c428-70e3ca71e490"
   },
   "outputs": [
    {
     "data": {
      "text/plain": [
       "'2.10.0'"
      ]
     },
     "execution_count": 2,
     "metadata": {},
     "output_type": "execute_result"
    }
   ],
   "source": [
    "tf.__version__"
   ]
  },
  {
   "cell_type": "code",
   "execution_count": 3,
   "metadata": {
    "id": "d02Ef7P-6scQ"
   },
   "outputs": [],
   "source": [
    "from tensorflow.keras.models import Sequential \n",
    "from tensorflow.keras.layers import Dense "
   ]
  },
  {
   "cell_type": "code",
   "execution_count": 4,
   "metadata": {
    "id": "qEFPn-kG6se0"
   },
   "outputs": [],
   "source": [
    "from tensorflow.keras.datasets import  boston_housing"
   ]
  },
  {
   "cell_type": "code",
   "execution_count": 5,
   "metadata": {
    "id": "QrykGSLv6sg6"
   },
   "outputs": [
    {
     "name": "stdout",
     "output_type": "stream",
     "text": [
      "Downloading data from https://storage.googleapis.com/tensorflow/tf-keras-datasets/boston_housing.npz\n",
      "57026/57026 [==============================] - 0s 1us/step\n"
     ]
    }
   ],
   "source": [
    "(X_train,y_train),(X_test,y_test) = boston_housing.load_data()"
   ]
  },
  {
   "cell_type": "code",
   "execution_count": 6,
   "metadata": {
    "colab": {
     "base_uri": "https://localhost:8080/"
    },
    "id": "4AjpWnB9DbvP",
    "outputId": "699faa2f-5ade-40e3-8f87-9486198369fd"
   },
   "outputs": [
    {
     "data": {
      "text/plain": [
       "array([[1.23247e+00, 0.00000e+00, 8.14000e+00, ..., 2.10000e+01,\n",
       "        3.96900e+02, 1.87200e+01],\n",
       "       [2.17700e-02, 8.25000e+01, 2.03000e+00, ..., 1.47000e+01,\n",
       "        3.95380e+02, 3.11000e+00],\n",
       "       [4.89822e+00, 0.00000e+00, 1.81000e+01, ..., 2.02000e+01,\n",
       "        3.75520e+02, 3.26000e+00],\n",
       "       ...,\n",
       "       [3.46600e-02, 3.50000e+01, 6.06000e+00, ..., 1.69000e+01,\n",
       "        3.62250e+02, 7.83000e+00],\n",
       "       [2.14918e+00, 0.00000e+00, 1.95800e+01, ..., 1.47000e+01,\n",
       "        2.61950e+02, 1.57900e+01],\n",
       "       [1.43900e-02, 6.00000e+01, 2.93000e+00, ..., 1.56000e+01,\n",
       "        3.76700e+02, 4.38000e+00]])"
      ]
     },
     "execution_count": 6,
     "metadata": {},
     "output_type": "execute_result"
    }
   ],
   "source": [
    "X_train"
   ]
  },
  {
   "cell_type": "code",
   "execution_count": 11,
   "metadata": {
    "colab": {
     "base_uri": "https://localhost:8080/"
    },
    "id": "bH6gXAYIDT0E",
    "outputId": "6f20761a-8e14-4bcc-a28f-d527cb5e4729"
   },
   "outputs": [
    {
     "data": {
      "text/plain": [
       "array([15.2, 42.3, 50. , 21.1, 17.7, 18.5, 11.3, 15.6, 15.6, 14.4, 12.1,\n",
       "       17.9, 23.1, 19.9, 15.7,  8.8, 50. , 22.5, 24.1, 27.5, 10.9, 30.8,\n",
       "       32.9, 24. , 18.5, 13.3, 22.9, 34.7, 16.6, 17.5, 22.3, 16.1, 14.9,\n",
       "       23.1, 34.9, 25. , 13.9, 13.1, 20.4, 20. , 15.2, 24.7, 22.2, 16.7,\n",
       "       12.7, 15.6, 18.4, 21. , 30.1, 15.1, 18.7,  9.6, 31.5, 24.8, 19.1,\n",
       "       22. , 14.5, 11. , 32. , 29.4, 20.3, 24.4, 14.6, 19.5, 14.1, 14.3,\n",
       "       15.6, 10.5,  6.3, 19.3, 19.3, 13.4, 36.4, 17.8, 13.5, 16.5,  8.3,\n",
       "       14.3, 16. , 13.4, 28.6, 43.5, 20.2, 22. , 23. , 20.7, 12.5, 48.5,\n",
       "       14.6, 13.4, 23.7, 50. , 21.7, 39.8, 38.7, 22.2, 34.9, 22.5, 31.1,\n",
       "       28.7, 46. , 41.7, 21. , 26.6, 15. , 24.4, 13.3, 21.2, 11.7, 21.7,\n",
       "       19.4, 50. , 22.8, 19.7, 24.7, 36.2, 14.2, 18.9, 18.3, 20.6, 24.6,\n",
       "       18.2,  8.7, 44. , 10.4, 13.2, 21.2, 37. , 30.7, 22.9, 20. , 19.3,\n",
       "       31.7, 32. , 23.1, 18.8, 10.9, 50. , 19.6,  5. , 14.4, 19.8, 13.8,\n",
       "       19.6, 23.9, 24.5, 25. , 19.9, 17.2, 24.6, 13.5, 26.6, 21.4, 11.9,\n",
       "       22.6, 19.6,  8.5, 23.7, 23.1, 22.4, 20.5, 23.6, 18.4, 35.2, 23.1,\n",
       "       27.9, 20.6, 23.7, 28. , 13.6, 27.1, 23.6, 20.6, 18.2, 21.7, 17.1,\n",
       "        8.4, 25.3, 13.8, 22.2, 18.4, 20.7, 31.6, 30.5, 20.3,  8.8, 19.2,\n",
       "       19.4, 23.1, 23. , 14.8, 48.8, 22.6, 33.4, 21.1, 13.6, 32.2, 13.1,\n",
       "       23.4, 18.9, 23.9, 11.8, 23.3, 22.8, 19.6, 16.7, 13.4, 22.2, 20.4,\n",
       "       21.8, 26.4, 14.9, 24.1, 23.8, 12.3, 29.1, 21. , 19.5, 23.3, 23.8,\n",
       "       17.8, 11.5, 21.7, 19.9, 25. , 33.4, 28.5, 21.4, 24.3, 27.5, 33.1,\n",
       "       16.2, 23.3, 48.3, 22.9, 22.8, 13.1, 12.7, 22.6, 15. , 15.3, 10.5,\n",
       "       24. , 18.5, 21.7, 19.5, 33.2, 23.2,  5. , 19.1, 12.7, 22.3, 10.2,\n",
       "       13.9, 16.3, 17. , 20.1, 29.9, 17.2, 37.3, 45.4, 17.8, 23.2, 29. ,\n",
       "       22. , 18. , 17.4, 34.6, 20.1, 25. , 15.6, 24.8, 28.2, 21.2, 21.4,\n",
       "       23.8, 31. , 26.2, 17.4, 37.9, 17.5, 20. ,  8.3, 23.9,  8.4, 13.8,\n",
       "        7.2, 11.7, 17.1, 21.6, 50. , 16.1, 20.4, 20.6, 21.4, 20.6, 36.5,\n",
       "        8.5, 24.8, 10.8, 21.9, 17.3, 18.9, 36.2, 14.9, 18.2, 33.3, 21.8,\n",
       "       19.7, 31.6, 24.8, 19.4, 22.8,  7.5, 44.8, 16.8, 18.7, 50. , 50. ,\n",
       "       19.5, 20.1, 50. , 17.2, 20.8, 19.3, 41.3, 20.4, 20.5, 13.8, 16.5,\n",
       "       23.9, 20.6, 31.5, 23.3, 16.8, 14. , 33.8, 36.1, 12.8, 18.3, 18.7,\n",
       "       19.1, 29. , 30.1, 50. , 50. , 22. , 11.9, 37.6, 50. , 22.7, 20.8,\n",
       "       23.5, 27.9, 50. , 19.3, 23.9, 22.6, 15.2, 21.7, 19.2, 43.8, 20.3,\n",
       "       33.2, 19.9, 22.5, 32.7, 22. , 17.1, 19. , 15. , 16.1, 25.1, 23.7,\n",
       "       28.7, 37.2, 22.6, 16.4, 25. , 29.8, 22.1, 17.4, 18.1, 30.3, 17.5,\n",
       "       24.7, 12.6, 26.5, 28.7, 13.3, 10.4, 24.4, 23. , 20. , 17.8,  7. ,\n",
       "       11.8, 24.4, 13.8, 19.4, 25.2, 19.4, 19.4, 29.1])"
      ]
     },
     "execution_count": 11,
     "metadata": {},
     "output_type": "execute_result"
    }
   ],
   "source": [
    "y_train"
   ]
  },
  {
   "cell_type": "code",
   "execution_count": 12,
   "metadata": {
    "colab": {
     "base_uri": "https://localhost:8080/"
    },
    "id": "wtwPZuJQDT2n",
    "outputId": "dd5a6023-e8b4-4d09-eaea-4eaa75468fa0"
   },
   "outputs": [
    {
     "data": {
      "text/plain": [
       "(404,)"
      ]
     },
     "execution_count": 12,
     "metadata": {},
     "output_type": "execute_result"
    }
   ],
   "source": [
    "y_train.shape"
   ]
  },
  {
   "cell_type": "code",
   "execution_count": 13,
   "metadata": {
    "colab": {
     "base_uri": "https://localhost:8080/"
    },
    "id": "9IUf6qayDT4v",
    "outputId": "d2ab5ab7-f752-487c-e419-54ab94c4859b"
   },
   "outputs": [
    {
     "data": {
      "text/plain": [
       "(404, 13)"
      ]
     },
     "execution_count": 13,
     "metadata": {},
     "output_type": "execute_result"
    }
   ],
   "source": [
    "X_train.shape"
   ]
  },
  {
   "cell_type": "code",
   "execution_count": 14,
   "metadata": {
    "colab": {
     "base_uri": "https://localhost:8080/"
    },
    "id": "qKUO0SLqDT7m",
    "outputId": "9f68e126-105f-433e-cec6-10f33aabed15"
   },
   "outputs": [
    {
     "data": {
      "text/plain": [
       "(102, 13)"
      ]
     },
     "execution_count": 14,
     "metadata": {},
     "output_type": "execute_result"
    }
   ],
   "source": [
    "X_test.shape"
   ]
  },
  {
   "cell_type": "code",
   "execution_count": 15,
   "metadata": {
    "colab": {
     "base_uri": "https://localhost:8080/"
    },
    "id": "WEj_TOFlDT97",
    "outputId": "52b0247b-4715-481c-de4f-91cb363e5dbe"
   },
   "outputs": [
    {
     "data": {
      "text/plain": [
       "(102,)"
      ]
     },
     "execution_count": 15,
     "metadata": {},
     "output_type": "execute_result"
    }
   ],
   "source": [
    "y_test.shape"
   ]
  },
  {
   "cell_type": "markdown",
   "metadata": {
    "id": "gILkkbNWEZs_"
   },
   "source": [
    "![image.png](data:image/png;base64,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)"
   ]
  },
  {
   "cell_type": "code",
   "execution_count": 16,
   "metadata": {
    "id": "k8OQ1aTxDUAV"
   },
   "outputs": [],
   "source": [
    "from sklearn.preprocessing import MinMaxScaler"
   ]
  },
  {
   "cell_type": "code",
   "execution_count": 17,
   "metadata": {
    "id": "Y6rXDnJcDUC3"
   },
   "outputs": [],
   "source": [
    "scaler = MinMaxScaler()"
   ]
  },
  {
   "cell_type": "code",
   "execution_count": 18,
   "metadata": {
    "id": "KjOR5qNrDUFp"
   },
   "outputs": [],
   "source": [
    "scaler.fit(X_train)\n",
    "X_train = scaler.transform(X_train)\n",
    "X_test = scaler.transform(X_test)"
   ]
  },
  {
   "cell_type": "code",
   "execution_count": 19,
   "metadata": {
    "id": "M92OVrCpDUHx"
   },
   "outputs": [],
   "source": [
    "from tensorflow.keras.models import Sequential \n",
    "from tensorflow.keras.layers import Dense "
   ]
  },
  {
   "cell_type": "code",
   "execution_count": 20,
   "metadata": {
    "colab": {
     "base_uri": "https://localhost:8080/"
    },
    "id": "pyV8NCNwHnYB",
    "outputId": "1009268f-79d5-478d-b8e8-0374c76b69a6"
   },
   "outputs": [
    {
     "data": {
      "text/plain": [
       "13"
      ]
     },
     "execution_count": 20,
     "metadata": {},
     "output_type": "execute_result"
    }
   ],
   "source": [
    "X_train.shape[1]"
   ]
  },
  {
   "cell_type": "code",
   "execution_count": 21,
   "metadata": {
    "colab": {
     "base_uri": "https://localhost:8080/"
    },
    "id": "sKColWiJDUKO",
    "outputId": "ce4217a1-ae28-4589-8522-d04491726aad"
   },
   "outputs": [
    {
     "name": "stdout",
     "output_type": "stream",
     "text": [
      "Model: \"sequential\"\n",
      "_________________________________________________________________\n",
      " Layer (type)                Output Shape              Param #   \n",
      "=================================================================\n",
      " dense (Dense)               (None, 16)                224       \n",
      "                                                                 \n",
      " dense_1 (Dense)             (None, 8)                 136       \n",
      "                                                                 \n",
      " dense_2 (Dense)             (None, 1)                 9         \n",
      "                                                                 \n",
      "=================================================================\n",
      "Total params: 369\n",
      "Trainable params: 369\n",
      "Non-trainable params: 0\n",
      "_________________________________________________________________\n"
     ]
    },
    {
     "name": "stderr",
     "output_type": "stream",
     "text": [
      "2022-09-30 13:32:41.674153: E tensorflow/stream_executor/cuda/cuda_driver.cc:265] failed call to cuInit: CUDA_ERROR_NO_DEVICE: no CUDA-capable device is detected\n",
      "2022-09-30 13:32:41.674222: I tensorflow/stream_executor/cuda/cuda_diagnostics.cc:156] kernel driver does not appear to be running on this host (85cbd4832729): /proc/driver/nvidia/version does not exist\n",
      "2022-09-30 13:32:41.675972: I tensorflow/core/platform/cpu_feature_guard.cc:193] This TensorFlow binary is optimized with oneAPI Deep Neural Network Library (oneDNN) to use the following CPU instructions in performance-critical operations:  AVX2 FMA\n",
      "To enable them in other operations, rebuild TensorFlow with the appropriate compiler flags.\n"
     ]
    }
   ],
   "source": [
    "model = Sequential()\n",
    "model.add(Dense(16,activation=\"relu\", input_dim = X_train.shape[1]))\n",
    "model.add(Dense(8,activation = \"relu\"))\n",
    "model.add(Dense(units = 1)) \n",
    "model.summary()"
   ]
  },
  {
   "cell_type": "markdown",
   "metadata": {
    "id": "VrDmvjKQIyeY"
   },
   "source": [
    "## mimarimizi belirledik."
   ]
  },
  {
   "cell_type": "code",
   "execution_count": 22,
   "metadata": {
    "id": "Fxw9DJGcDUMs"
   },
   "outputs": [],
   "source": [
    "model.compile(optimizer = \"adam\", loss = \"mse\",metrics = [\"mape\"])"
   ]
  },
  {
   "cell_type": "code",
   "execution_count": 23,
   "metadata": {
    "id": "b6s-huOz6sjN"
   },
   "outputs": [],
   "source": [
    "history = model.fit(X_train,y_train,epochs = 20 ,verbose = 0)"
   ]
  },
  {
   "cell_type": "code",
   "execution_count": 24,
   "metadata": {
    "id": "0gsBK8BYTfq8"
   },
   "outputs": [],
   "source": [
    "import pandas as pd"
   ]
  },
  {
   "cell_type": "code",
   "execution_count": 25,
   "metadata": {
    "colab": {
     "base_uri": "https://localhost:8080/"
    },
    "id": "QpEXM1HDS8Zx",
    "outputId": "100f71ca-9ee0-4050-8f4b-7c8170a3bca2"
   },
   "outputs": [
    {
     "data": {
      "text/plain": [
       "{'loss': [582.0045776367188,\n",
       "  572.8590087890625,\n",
       "  562.3021850585938,\n",
       "  550.6685791015625,\n",
       "  537.1305541992188,\n",
       "  520.375244140625,\n",
       "  498.2110290527344,\n",
       "  470.13372802734375,\n",
       "  435.9856262207031,\n",
       "  396.5785827636719,\n",
       "  354.0506896972656,\n",
       "  310.3824462890625,\n",
       "  267.6191711425781,\n",
       "  227.7846221923828,\n",
       "  194.3186492919922,\n",
       "  168.41650390625,\n",
       "  147.97134399414062,\n",
       "  135.82455444335938,\n",
       "  126.92371368408203,\n",
       "  121.166259765625],\n",
       " 'mape': [99.21546173095703,\n",
       "  98.05139923095703,\n",
       "  96.75762176513672,\n",
       "  95.24971008300781,\n",
       "  93.369873046875,\n",
       "  90.9901351928711,\n",
       "  87.87969970703125,\n",
       "  83.8741226196289,\n",
       "  78.73295593261719,\n",
       "  72.78447723388672,\n",
       "  65.99383544921875,\n",
       "  59.377525329589844,\n",
       "  52.9064826965332,\n",
       "  47.62407302856445,\n",
       "  43.82551956176758,\n",
       "  42.51099395751953,\n",
       "  41.762203216552734,\n",
       "  41.87263107299805,\n",
       "  41.956539154052734,\n",
       "  41.98719787597656]}"
      ]
     },
     "execution_count": 25,
     "metadata": {},
     "output_type": "execute_result"
    }
   ],
   "source": [
    "history.history"
   ]
  },
  {
   "cell_type": "code",
   "execution_count": 26,
   "metadata": {
    "colab": {
     "base_uri": "https://localhost:8080/",
     "height": 676
    },
    "id": "BR0yD_6fS8cH",
    "outputId": "6b0fed81-fd41-470b-c2a0-9d178dd665b4"
   },
   "outputs": [
    {
     "data": {
      "text/html": [
       "\n",
       "  <div id=\"df-3dc94611-758d-4364-870c-91a47f87e6f6\">\n",
       "    <div class=\"colab-df-container\">\n",
       "      <div>\n",
       "<style scoped>\n",
       "    .dataframe tbody tr th:only-of-type {\n",
       "        vertical-align: middle;\n",
       "    }\n",
       "\n",
       "    .dataframe tbody tr th {\n",
       "        vertical-align: top;\n",
       "    }\n",
       "\n",
       "    .dataframe thead th {\n",
       "        text-align: right;\n",
       "    }\n",
       "</style>\n",
       "<table border=\"1\" class=\"dataframe\">\n",
       "  <thead>\n",
       "    <tr style=\"text-align: right;\">\n",
       "      <th></th>\n",
       "      <th>loss</th>\n",
       "      <th>mape</th>\n",
       "    </tr>\n",
       "  </thead>\n",
       "  <tbody>\n",
       "    <tr>\n",
       "      <th>0</th>\n",
       "      <td>582.004578</td>\n",
       "      <td>99.215462</td>\n",
       "    </tr>\n",
       "    <tr>\n",
       "      <th>1</th>\n",
       "      <td>572.859009</td>\n",
       "      <td>98.051399</td>\n",
       "    </tr>\n",
       "    <tr>\n",
       "      <th>2</th>\n",
       "      <td>562.302185</td>\n",
       "      <td>96.757622</td>\n",
       "    </tr>\n",
       "    <tr>\n",
       "      <th>3</th>\n",
       "      <td>550.668579</td>\n",
       "      <td>95.249710</td>\n",
       "    </tr>\n",
       "    <tr>\n",
       "      <th>4</th>\n",
       "      <td>537.130554</td>\n",
       "      <td>93.369873</td>\n",
       "    </tr>\n",
       "    <tr>\n",
       "      <th>5</th>\n",
       "      <td>520.375244</td>\n",
       "      <td>90.990135</td>\n",
       "    </tr>\n",
       "    <tr>\n",
       "      <th>6</th>\n",
       "      <td>498.211029</td>\n",
       "      <td>87.879700</td>\n",
       "    </tr>\n",
       "    <tr>\n",
       "      <th>7</th>\n",
       "      <td>470.133728</td>\n",
       "      <td>83.874123</td>\n",
       "    </tr>\n",
       "    <tr>\n",
       "      <th>8</th>\n",
       "      <td>435.985626</td>\n",
       "      <td>78.732956</td>\n",
       "    </tr>\n",
       "    <tr>\n",
       "      <th>9</th>\n",
       "      <td>396.578583</td>\n",
       "      <td>72.784477</td>\n",
       "    </tr>\n",
       "    <tr>\n",
       "      <th>10</th>\n",
       "      <td>354.050690</td>\n",
       "      <td>65.993835</td>\n",
       "    </tr>\n",
       "    <tr>\n",
       "      <th>11</th>\n",
       "      <td>310.382446</td>\n",
       "      <td>59.377525</td>\n",
       "    </tr>\n",
       "    <tr>\n",
       "      <th>12</th>\n",
       "      <td>267.619171</td>\n",
       "      <td>52.906483</td>\n",
       "    </tr>\n",
       "    <tr>\n",
       "      <th>13</th>\n",
       "      <td>227.784622</td>\n",
       "      <td>47.624073</td>\n",
       "    </tr>\n",
       "    <tr>\n",
       "      <th>14</th>\n",
       "      <td>194.318649</td>\n",
       "      <td>43.825520</td>\n",
       "    </tr>\n",
       "    <tr>\n",
       "      <th>15</th>\n",
       "      <td>168.416504</td>\n",
       "      <td>42.510994</td>\n",
       "    </tr>\n",
       "    <tr>\n",
       "      <th>16</th>\n",
       "      <td>147.971344</td>\n",
       "      <td>41.762203</td>\n",
       "    </tr>\n",
       "    <tr>\n",
       "      <th>17</th>\n",
       "      <td>135.824554</td>\n",
       "      <td>41.872631</td>\n",
       "    </tr>\n",
       "    <tr>\n",
       "      <th>18</th>\n",
       "      <td>126.923714</td>\n",
       "      <td>41.956539</td>\n",
       "    </tr>\n",
       "    <tr>\n",
       "      <th>19</th>\n",
       "      <td>121.166260</td>\n",
       "      <td>41.987198</td>\n",
       "    </tr>\n",
       "  </tbody>\n",
       "</table>\n",
       "</div>\n",
       "      <button class=\"colab-df-convert\" onclick=\"convertToInteractive('df-3dc94611-758d-4364-870c-91a47f87e6f6')\"\n",
       "              title=\"Convert this dataframe to an interactive table.\"\n",
       "              style=\"display:none;\">\n",
       "        \n",
       "  <svg xmlns=\"http://www.w3.org/2000/svg\" height=\"24px\"viewBox=\"0 0 24 24\"\n",
       "       width=\"24px\">\n",
       "    <path d=\"M0 0h24v24H0V0z\" fill=\"none\"/>\n",
       "    <path d=\"M18.56 5.44l.94 2.06.94-2.06 2.06-.94-2.06-.94-.94-2.06-.94 2.06-2.06.94zm-11 1L8.5 8.5l.94-2.06 2.06-.94-2.06-.94L8.5 2.5l-.94 2.06-2.06.94zm10 10l.94 2.06.94-2.06 2.06-.94-2.06-.94-.94-2.06-.94 2.06-2.06.94z\"/><path d=\"M17.41 7.96l-1.37-1.37c-.4-.4-.92-.59-1.43-.59-.52 0-1.04.2-1.43.59L10.3 9.45l-7.72 7.72c-.78.78-.78 2.05 0 2.83L4 21.41c.39.39.9.59 1.41.59.51 0 1.02-.2 1.41-.59l7.78-7.78 2.81-2.81c.8-.78.8-2.07 0-2.86zM5.41 20L4 18.59l7.72-7.72 1.47 1.35L5.41 20z\"/>\n",
       "  </svg>\n",
       "      </button>\n",
       "      \n",
       "  <style>\n",
       "    .colab-df-container {\n",
       "      display:flex;\n",
       "      flex-wrap:wrap;\n",
       "      gap: 12px;\n",
       "    }\n",
       "\n",
       "    .colab-df-convert {\n",
       "      background-color: #E8F0FE;\n",
       "      border: none;\n",
       "      border-radius: 50%;\n",
       "      cursor: pointer;\n",
       "      display: none;\n",
       "      fill: #1967D2;\n",
       "      height: 32px;\n",
       "      padding: 0 0 0 0;\n",
       "      width: 32px;\n",
       "    }\n",
       "\n",
       "    .colab-df-convert:hover {\n",
       "      background-color: #E2EBFA;\n",
       "      box-shadow: 0px 1px 2px rgba(60, 64, 67, 0.3), 0px 1px 3px 1px rgba(60, 64, 67, 0.15);\n",
       "      fill: #174EA6;\n",
       "    }\n",
       "\n",
       "    [theme=dark] .colab-df-convert {\n",
       "      background-color: #3B4455;\n",
       "      fill: #D2E3FC;\n",
       "    }\n",
       "\n",
       "    [theme=dark] .colab-df-convert:hover {\n",
       "      background-color: #434B5C;\n",
       "      box-shadow: 0px 1px 3px 1px rgba(0, 0, 0, 0.15);\n",
       "      filter: drop-shadow(0px 1px 2px rgba(0, 0, 0, 0.3));\n",
       "      fill: #FFFFFF;\n",
       "    }\n",
       "  </style>\n",
       "\n",
       "      <script>\n",
       "        const buttonEl =\n",
       "          document.querySelector('#df-3dc94611-758d-4364-870c-91a47f87e6f6 button.colab-df-convert');\n",
       "        buttonEl.style.display =\n",
       "          google.colab.kernel.accessAllowed ? 'block' : 'none';\n",
       "\n",
       "        async function convertToInteractive(key) {\n",
       "          const element = document.querySelector('#df-3dc94611-758d-4364-870c-91a47f87e6f6');\n",
       "          const dataTable =\n",
       "            await google.colab.kernel.invokeFunction('convertToInteractive',\n",
       "                                                     [key], {});\n",
       "          if (!dataTable) return;\n",
       "\n",
       "          const docLinkHtml = 'Like what you see? Visit the ' +\n",
       "            '<a target=\"_blank\" href=https://colab.research.google.com/notebooks/data_table.ipynb>data table notebook</a>'\n",
       "            + ' to learn more about interactive tables.';\n",
       "          element.innerHTML = '';\n",
       "          dataTable['output_type'] = 'display_data';\n",
       "          await google.colab.output.renderOutput(dataTable, element);\n",
       "          const docLink = document.createElement('div');\n",
       "          docLink.innerHTML = docLinkHtml;\n",
       "          element.appendChild(docLink);\n",
       "        }\n",
       "      </script>\n",
       "    </div>\n",
       "  </div>\n",
       "  "
      ],
      "text/plain": [
       "          loss       mape\n",
       "0   582.004578  99.215462\n",
       "1   572.859009  98.051399\n",
       "2   562.302185  96.757622\n",
       "3   550.668579  95.249710\n",
       "4   537.130554  93.369873\n",
       "5   520.375244  90.990135\n",
       "6   498.211029  87.879700\n",
       "7   470.133728  83.874123\n",
       "8   435.985626  78.732956\n",
       "9   396.578583  72.784477\n",
       "10  354.050690  65.993835\n",
       "11  310.382446  59.377525\n",
       "12  267.619171  52.906483\n",
       "13  227.784622  47.624073\n",
       "14  194.318649  43.825520\n",
       "15  168.416504  42.510994\n",
       "16  147.971344  41.762203\n",
       "17  135.824554  41.872631\n",
       "18  126.923714  41.956539\n",
       "19  121.166260  41.987198"
      ]
     },
     "execution_count": 26,
     "metadata": {},
     "output_type": "execute_result"
    }
   ],
   "source": [
    "df = pd.DataFrame.from_dict(history.history)\n",
    "df"
   ]
  },
  {
   "cell_type": "code",
   "execution_count": 27,
   "metadata": {
    "colab": {
     "base_uri": "https://localhost:8080/",
     "height": 449
    },
    "id": "9T7MCCNuS8hB",
    "outputId": "d6c09851-9d4d-465f-db70-2b2ee4a65cb0"
   },
   "outputs": [
    {
     "data": {
      "text/plain": [
       "<AxesSubplot:>"
      ]
     },
     "execution_count": 27,
     "metadata": {},
     "output_type": "execute_result"
    },
    {
     "data": {
      "image/png": "[encoded data removed]",
      "text/plain": [
       "<Figure size 640x480 with 1 Axes>"
      ]
     },
     "metadata": {},
     "output_type": "display_data"
    }
   ],
   "source": [
    "df[\"loss\"].plot()"
   ]
  },
  {
   "cell_type": "code",
   "execution_count": 28,
   "metadata": {
    "colab": {
     "base_uri": "https://localhost:8080/",
     "height": 452
    },
    "id": "AWeybXAHS8jO",
    "outputId": "21266a41-02ea-40c4-97c2-02c960d83ad1"
   },
   "outputs": [
    {
     "data": {
      "text/plain": [
       "(0.0, 100.0)"
      ]
     },
     "execution_count": 28,
     "metadata": {},
     "output_type": "execute_result"
    },
    {
     "data": {
      "image/png": "[encoded data removed]",
      "text/plain": [
       "<Figure size 640x480 with 1 Axes>"
      ]
     },
     "metadata": {},
     "output_type": "display_data"
    }
   ],
   "source": [
    "import matplotlib.pyplot as plt\n",
    "df[\"loss\"].plot()\n",
    "plt.xlim([0,200])\n",
    "plt.ylim([0,100])"
   ]
  },
  {
   "cell_type": "code",
   "execution_count": 29,
   "metadata": {
    "colab": {
     "base_uri": "https://localhost:8080/",
     "height": 452
    },
    "id": "5-U2uS43S8lh",
    "outputId": "9f2e9e02-a957-464c-d1ca-d94346d7759e"
   },
   "outputs": [
    {
     "data": {
      "text/plain": [
       "(0.0, 100.0)"
      ]
     },
     "execution_count": 29,
     "metadata": {},
     "output_type": "execute_result"
    },
    {
     "data": {
      "image/png": "[encoded data removed]",
      "text/plain": [
       "<Figure size 640x480 with 1 Axes>"
      ]
     },
     "metadata": {},
     "output_type": "display_data"
    }
   ],
   "source": [
    "import matplotlib.pyplot as plt\n",
    "df[\"mape\"].plot()\n",
    "plt.xlim([0,100])\n",
    "plt.ylim([0,100])"
   ]
  },
  {
   "cell_type": "code",
   "execution_count": 30,
   "metadata": {
    "id": "jCBmnUh6S8oO"
   },
   "outputs": [],
   "source": [
    "## mape'ye göre %17 kadar düşülmüş görünüyor."
   ]
  },
  {
   "cell_type": "code",
   "execution_count": 31,
   "metadata": {
    "colab": {
     "base_uri": "https://localhost:8080/"
    },
    "id": "Xx3xXR1KS8qw",
    "outputId": "ef5a4a52-3c79-4445-9341-b3781ddb77f9"
   },
   "outputs": [
    {
     "data": {
      "text/plain": [
       "loss    121.166260\n",
       "mape     41.987198\n",
       "Name: 19, dtype: float64"
      ]
     },
     "execution_count": 31,
     "metadata": {},
     "output_type": "execute_result"
    }
   ],
   "source": [
    "df.iloc[-1,:]              "
   ]
  },
  {
   "cell_type": "code",
   "execution_count": 32,
   "metadata": {
    "colab": {
     "base_uri": "https://localhost:8080/"
    },
    "id": "2miMgvwbS8tX",
    "outputId": "cbec73fe-b35a-4e69-ec01-66a89b065bb8"
   },
   "outputs": [
    {
     "name": "stdout",
     "output_type": "stream",
     "text": [
      "4/4 [==============================] - 0s 3ms/step\n",
      "13/13 [==============================] - 0s 2ms/step\n"
     ]
    }
   ],
   "source": [
    "y_pred = model.predict(X_test)\n",
    "y_pred_train = model.predict(X_train)\n",
    "\n",
    "from sklearn.metrics import mean_squared_error"
   ]
  },
  {
   "cell_type": "code",
   "execution_count": 33,
   "metadata": {
    "colab": {
     "base_uri": "https://localhost:8080/"
    },
    "id": "pxx_u8gM6sln",
    "outputId": "f5517252-9550-4a25-8a49-ddc2e08e555e"
   },
   "outputs": [
    {
     "data": {
      "text/plain": [
       "118.65015399900383"
      ]
     },
     "execution_count": 33,
     "metadata": {},
     "output_type": "execute_result"
    }
   ],
   "source": [
    "mean_squared_error(y_train,y_pred_train)"
   ]
  },
  {
   "cell_type": "code",
   "execution_count": 34,
   "metadata": {
    "colab": {
     "base_uri": "https://localhost:8080/"
    },
    "id": "VR9zaQQ06soO",
    "outputId": "7a290e86-c859-4154-c44f-f1a25324ae1b"
   },
   "outputs": [
    {
     "data": {
      "text/plain": [
       "125.9496405989191"
      ]
     },
     "execution_count": 34,
     "metadata": {},
     "output_type": "execute_result"
    }
   ],
   "source": [
    "mean_squared_error(y_test,y_pred)"
   ]
  },
  {
   "cell_type": "code",
   "execution_count": 40,
   "metadata": {
    "id": "FYchOfQj6sqm"
   },
   "outputs": [],
   "source": [
    "model = Sequential()\n",
    "model.add(Dense(16,activation=\"relu\", input_dim = X_train.shape[1]))\n",
    "model.add(Dense(8,activation = \"relu\"))\n",
    "model.add(Dense(units = 1)) "
   ]
  },
  {
   "cell_type": "code",
   "execution_count": 41,
   "metadata": {
    "id": "cg20gZhDpJX7"
   },
   "outputs": [],
   "source": [
    "early_stop = tf.keras.callbacks.EarlyStopping(monitor = \"val_loss\",patience=50)"
   ]
  },
  {
   "cell_type": "code",
   "execution_count": 42,
   "metadata": {
    "id": "3d-cO3tMYAZo"
   },
   "outputs": [],
   "source": [
    "model.compile(optimizer = \"adam\", loss = \"mse\",metrics = [\"mape\"])"
   ]
  },
  {
   "cell_type": "code",
   "execution_count": 43,
   "metadata": {
    "colab": {
     "base_uri": "https://localhost:8080/"
    },
    "id": "pFuNpoSzYAcg",
    "outputId": "67ec53ed-dd96-4d5e-ce8a-0683cc70e340"
   },
   "outputs": [
    {
     "name": "stdout",
     "output_type": "stream",
     "text": [
      "Epoch 1/1000\n",
      "12/12 [==============================] - 1s 24ms/step - loss: 616.2798 - mape: 102.9832 - val_loss: 518.7410 - val_mape: 102.0494\n",
      "Epoch 2/1000\n",
      "12/12 [==============================] - 0s 7ms/step - loss: 605.7178 - mape: 101.5857 - val_loss: 510.0611 - val_mape: 100.8443\n",
      "Epoch 3/1000\n",
      "12/12 [==============================] - 0s 7ms/step - loss: 596.6572 - mape: 100.3198 - val_loss: 502.1890 - val_mape: 99.7152\n",
      "Epoch 4/1000\n",
      "12/12 [==============================] - 0s 5ms/step - loss: 587.8544 - mape: 99.1121 - val_loss: 494.1210 - val_mape: 98.5221\n",
      "Epoch 5/1000\n",
      "12/12 [==============================] - 0s 6ms/step - loss: 578.4244 - mape: 97.8360 - val_loss: 484.6350 - val_mape: 97.0820\n",
      "Epoch 6/1000\n",
      "12/12 [==============================] - 0s 7ms/step - loss: 566.4671 - mape: 96.1195 - val_loss: 471.7127 - val_mape: 95.1373\n",
      "Epoch 7/1000\n",
      "12/12 [==============================] - 0s 6ms/step - loss: 550.5750 - mape: 93.8304 - val_loss: 455.4832 - val_mape: 92.7465\n",
      "Epoch 8/1000\n",
      "12/12 [==============================] - 0s 7ms/step - loss: 532.1915 - mape: 91.2203 - val_loss: 437.9923 - val_mape: 90.1797\n",
      "Epoch 9/1000\n",
      "12/12 [==============================] - 0s 5ms/step - loss: 511.9998 - mape: 88.4881 - val_loss: 418.8528 - val_mape: 87.3018\n",
      "Epoch 10/1000\n",
      "12/12 [==============================] - 0s 6ms/step - loss: 490.0279 - mape: 85.3687 - val_loss: 397.8684 - val_mape: 84.0509\n",
      "Epoch 11/1000\n",
      "12/12 [==============================] - 0s 7ms/step - loss: 466.3444 - mape: 81.7416 - val_loss: 375.2346 - val_mape: 80.4164\n",
      "Epoch 12/1000\n",
      "12/12 [==============================] - 0s 5ms/step - loss: 441.0563 - mape: 77.9706 - val_loss: 351.5167 - val_mape: 76.4316\n",
      "Epoch 13/1000\n",
      "12/12 [==============================] - 0s 7ms/step - loss: 414.3073 - mape: 73.9641 - val_loss: 326.8793 - val_mape: 72.0853\n",
      "Epoch 14/1000\n",
      "12/12 [==============================] - 0s 7ms/step - loss: 386.7495 - mape: 69.6694 - val_loss: 301.4621 - val_mape: 68.1153\n",
      "Epoch 15/1000\n",
      "12/12 [==============================] - 0s 5ms/step - loss: 358.6088 - mape: 65.1087 - val_loss: 275.9849 - val_mape: 63.8990\n",
      "Epoch 16/1000\n",
      "12/12 [==============================] - 0s 6ms/step - loss: 330.3845 - mape: 61.1798 - val_loss: 250.7847 - val_mape: 59.4078\n",
      "Epoch 17/1000\n",
      "12/12 [==============================] - 0s 5ms/step - loss: 302.6795 - mape: 57.1761 - val_loss: 226.1943 - val_mape: 55.2133\n",
      "Epoch 18/1000\n",
      "12/12 [==============================] - 0s 5ms/step - loss: 276.2244 - mape: 53.6739 - val_loss: 203.1270 - val_mape: 52.0957\n",
      "Epoch 19/1000\n",
      "12/12 [==============================] - 0s 5ms/step - loss: 251.1945 - mape: 50.5165 - val_loss: 182.0943 - val_mape: 49.4221\n",
      "Epoch 20/1000\n",
      "12/12 [==============================] - 0s 6ms/step - loss: 228.9165 - mape: 48.4435 - val_loss: 163.4411 - val_mape: 47.2395\n",
      "Epoch 21/1000\n",
      "12/12 [==============================] - 0s 5ms/step - loss: 208.8582 - mape: 46.7677 - val_loss: 147.1724 - val_mape: 45.8483\n",
      "Epoch 22/1000\n",
      "12/12 [==============================] - 0s 6ms/step - loss: 191.1860 - mape: 45.5256 - val_loss: 134.3268 - val_mape: 44.5134\n",
      "Epoch 23/1000\n",
      "12/12 [==============================] - 0s 5ms/step - loss: 177.5147 - mape: 44.8231 - val_loss: 123.5073 - val_mape: 43.4302\n",
      "Epoch 24/1000\n",
      "12/12 [==============================] - 0s 8ms/step - loss: 165.7212 - mape: 44.6830 - val_loss: 114.9350 - val_mape: 43.1225\n",
      "Epoch 25/1000\n",
      "12/12 [==============================] - 0s 5ms/step - loss: 156.3732 - mape: 44.6112 - val_loss: 108.2076 - val_mape: 43.2934\n",
      "Epoch 26/1000\n",
      "12/12 [==============================] - 0s 6ms/step - loss: 149.4006 - mape: 44.8647 - val_loss: 102.9980 - val_mape: 43.3855\n",
      "Epoch 27/1000\n",
      "12/12 [==============================] - 0s 7ms/step - loss: 143.7323 - mape: 44.9356 - val_loss: 99.0136 - val_mape: 43.3586\n",
      "Epoch 28/1000\n",
      "12/12 [==============================] - 0s 5ms/step - loss: 139.1336 - mape: 44.8500 - val_loss: 95.7889 - val_mape: 43.1631\n",
      "Epoch 29/1000\n",
      "12/12 [==============================] - 0s 6ms/step - loss: 135.4827 - mape: 44.6935 - val_loss: 93.0626 - val_mape: 42.8372\n",
      "Epoch 30/1000\n",
      "12/12 [==============================] - 0s 5ms/step - loss: 132.2853 - mape: 44.5730 - val_loss: 90.4243 - val_mape: 42.5022\n",
      "Epoch 31/1000\n",
      "12/12 [==============================] - 0s 5ms/step - loss: 129.3248 - mape: 44.5476 - val_loss: 88.0254 - val_mape: 42.2266\n",
      "Epoch 32/1000\n",
      "12/12 [==============================] - 0s 6ms/step - loss: 126.4140 - mape: 44.3597 - val_loss: 85.7093 - val_mape: 41.7505\n",
      "Epoch 33/1000\n",
      "12/12 [==============================] - 0s 5ms/step - loss: 123.9186 - mape: 44.1170 - val_loss: 83.4828 - val_mape: 41.4112\n",
      "Epoch 34/1000\n",
      "12/12 [==============================] - 0s 5ms/step - loss: 121.3048 - mape: 43.8585 - val_loss: 81.2796 - val_mape: 40.9301\n",
      "Epoch 35/1000\n",
      "12/12 [==============================] - 0s 5ms/step - loss: 118.8909 - mape: 43.3749 - val_loss: 78.8810 - val_mape: 40.2507\n",
      "Epoch 36/1000\n",
      "12/12 [==============================] - 0s 5ms/step - loss: 116.4421 - mape: 42.7489 - val_loss: 76.5461 - val_mape: 39.5763\n",
      "Epoch 37/1000\n",
      "12/12 [==============================] - 0s 5ms/step - loss: 113.9726 - mape: 42.2431 - val_loss: 74.4132 - val_mape: 39.0576\n",
      "Epoch 38/1000\n",
      "12/12 [==============================] - 0s 5ms/step - loss: 111.6947 - mape: 41.7814 - val_loss: 72.1177 - val_mape: 38.3931\n",
      "Epoch 39/1000\n",
      "12/12 [==============================] - 0s 6ms/step - loss: 109.2383 - mape: 41.1732 - val_loss: 69.8510 - val_mape: 37.6730\n",
      "Epoch 40/1000\n",
      "12/12 [==============================] - 0s 6ms/step - loss: 106.9079 - mape: 40.5676 - val_loss: 67.4698 - val_mape: 36.9226\n",
      "Epoch 41/1000\n",
      "12/12 [==============================] - 0s 7ms/step - loss: 104.5596 - mape: 40.1117 - val_loss: 65.3535 - val_mape: 36.4232\n",
      "Epoch 42/1000\n",
      "12/12 [==============================] - 0s 5ms/step - loss: 102.0398 - mape: 39.5667 - val_loss: 63.1224 - val_mape: 35.6552\n",
      "Epoch 43/1000\n",
      "12/12 [==============================] - 0s 5ms/step - loss: 99.7454 - mape: 38.8701 - val_loss: 60.8720 - val_mape: 34.8466\n",
      "Epoch 44/1000\n",
      "12/12 [==============================] - 0s 5ms/step - loss: 97.4530 - mape: 38.1438 - val_loss: 58.5929 - val_mape: 33.9676\n",
      "Epoch 45/1000\n",
      "12/12 [==============================] - 0s 5ms/step - loss: 95.1973 - mape: 37.4760 - val_loss: 56.4935 - val_mape: 33.2852\n",
      "Epoch 46/1000\n",
      "12/12 [==============================] - 0s 7ms/step - loss: 92.9343 - mape: 36.9440 - val_loss: 54.4884 - val_mape: 32.5985\n",
      "Epoch 47/1000\n",
      "12/12 [==============================] - 0s 7ms/step - loss: 90.7816 - mape: 36.4081 - val_loss: 52.5426 - val_mape: 31.9541\n",
      "Epoch 48/1000\n",
      "12/12 [==============================] - 0s 8ms/step - loss: 88.5855 - mape: 35.7884 - val_loss: 50.5606 - val_mape: 31.2153\n",
      "Epoch 49/1000\n",
      "12/12 [==============================] - 0s 8ms/step - loss: 86.4814 - mape: 35.2813 - val_loss: 48.7556 - val_mape: 30.6055\n",
      "Epoch 50/1000\n",
      "12/12 [==============================] - 0s 8ms/step - loss: 84.4429 - mape: 34.6973 - val_loss: 46.9080 - val_mape: 29.9036\n",
      "Epoch 51/1000\n",
      "12/12 [==============================] - 0s 5ms/step - loss: 82.4738 - mape: 34.1132 - val_loss: 45.1467 - val_mape: 29.3924\n",
      "Epoch 52/1000\n",
      "12/12 [==============================] - 0s 5ms/step - loss: 80.4461 - mape: 33.5768 - val_loss: 43.4756 - val_mape: 28.8113\n",
      "Epoch 53/1000\n",
      "12/12 [==============================] - 0s 5ms/step - loss: 78.7004 - mape: 32.9375 - val_loss: 41.7150 - val_mape: 28.0359\n",
      "Epoch 54/1000\n",
      "12/12 [==============================] - 0s 5ms/step - loss: 76.7696 - mape: 32.2904 - val_loss: 40.1113 - val_mape: 27.4502\n",
      "Epoch 55/1000\n",
      "12/12 [==============================] - 0s 5ms/step - loss: 74.9807 - mape: 31.6972 - val_loss: 38.5691 - val_mape: 26.8221\n",
      "Epoch 56/1000\n",
      "12/12 [==============================] - 0s 6ms/step - loss: 73.2412 - mape: 31.2477 - val_loss: 37.1901 - val_mape: 26.4031\n",
      "Epoch 57/1000\n",
      "12/12 [==============================] - 0s 5ms/step - loss: 71.6414 - mape: 30.9886 - val_loss: 35.9991 - val_mape: 26.0947\n",
      "Epoch 58/1000\n",
      "12/12 [==============================] - 0s 5ms/step - loss: 70.0260 - mape: 30.5554 - val_loss: 34.6642 - val_mape: 25.4184\n",
      "Epoch 59/1000\n",
      "12/12 [==============================] - 0s 6ms/step - loss: 68.5342 - mape: 29.8284 - val_loss: 33.3333 - val_mape: 24.6288\n",
      "Epoch 60/1000\n",
      "12/12 [==============================] - 0s 7ms/step - loss: 66.9936 - mape: 29.1400 - val_loss: 32.2190 - val_mape: 24.0618\n",
      "Epoch 61/1000\n",
      "12/12 [==============================] - 0s 5ms/step - loss: 65.6674 - mape: 28.8385 - val_loss: 31.2305 - val_mape: 23.7028\n",
      "Epoch 62/1000\n",
      "12/12 [==============================] - 0s 5ms/step - loss: 64.2511 - mape: 28.4902 - val_loss: 30.2516 - val_mape: 23.1450\n",
      "Epoch 63/1000\n",
      "12/12 [==============================] - 0s 5ms/step - loss: 62.7962 - mape: 27.6022 - val_loss: 29.0887 - val_mape: 22.1886\n",
      "Epoch 64/1000\n",
      "12/12 [==============================] - 0s 5ms/step - loss: 61.4870 - mape: 26.5635 - val_loss: 27.9495 - val_mape: 21.3827\n",
      "Epoch 65/1000\n",
      "12/12 [==============================] - 0s 6ms/step - loss: 60.2303 - mape: 25.9324 - val_loss: 27.0085 - val_mape: 20.7350\n",
      "Epoch 66/1000\n",
      "12/12 [==============================] - 0s 5ms/step - loss: 59.0230 - mape: 25.5860 - val_loss: 26.3472 - val_mape: 20.4724\n",
      "Epoch 67/1000\n",
      "12/12 [==============================] - 0s 7ms/step - loss: 57.8240 - mape: 25.3484 - val_loss: 25.7428 - val_mape: 20.0109\n",
      "Epoch 68/1000\n",
      "12/12 [==============================] - 0s 6ms/step - loss: 56.8893 - mape: 24.9990 - val_loss: 25.2437 - val_mape: 19.6102\n",
      "Epoch 69/1000\n",
      "12/12 [==============================] - 0s 5ms/step - loss: 56.1457 - mape: 24.7528 - val_loss: 24.8268 - val_mape: 19.2267\n",
      "Epoch 70/1000\n",
      "12/12 [==============================] - 0s 5ms/step - loss: 55.3346 - mape: 24.6985 - val_loss: 24.5291 - val_mape: 18.9847\n",
      "Epoch 71/1000\n",
      "12/12 [==============================] - 0s 6ms/step - loss: 54.6644 - mape: 24.6647 - val_loss: 24.3307 - val_mape: 18.8584\n",
      "Epoch 72/1000\n",
      "12/12 [==============================] - 0s 5ms/step - loss: 53.9641 - mape: 24.4319 - val_loss: 23.9649 - val_mape: 18.5123\n",
      "Epoch 73/1000\n",
      "12/12 [==============================] - 0s 6ms/step - loss: 53.2780 - mape: 24.1371 - val_loss: 23.7799 - val_mape: 18.3597\n",
      "Epoch 74/1000\n",
      "12/12 [==============================] - 0s 5ms/step - loss: 52.8100 - mape: 24.1998 - val_loss: 23.6420 - val_mape: 18.2547\n",
      "Epoch 75/1000\n",
      "12/12 [==============================] - 0s 5ms/step - loss: 52.1624 - mape: 23.9451 - val_loss: 23.3850 - val_mape: 17.9681\n",
      "Epoch 76/1000\n",
      "12/12 [==============================] - 0s 5ms/step - loss: 51.6310 - mape: 23.6312 - val_loss: 23.1727 - val_mape: 17.7764\n",
      "Epoch 77/1000\n",
      "12/12 [==============================] - 0s 5ms/step - loss: 51.1156 - mape: 23.3844 - val_loss: 23.0441 - val_mape: 17.8215\n",
      "Epoch 78/1000\n",
      "12/12 [==============================] - 0s 5ms/step - loss: 50.5719 - mape: 23.1750 - val_loss: 22.9288 - val_mape: 17.8800\n",
      "Epoch 79/1000\n",
      "12/12 [==============================] - 0s 6ms/step - loss: 50.1059 - mape: 23.1018 - val_loss: 22.8680 - val_mape: 17.9744\n",
      "Epoch 80/1000\n",
      "12/12 [==============================] - 0s 7ms/step - loss: 49.5792 - mape: 22.8765 - val_loss: 22.7044 - val_mape: 18.0098\n",
      "Epoch 81/1000\n",
      "12/12 [==============================] - 0s 5ms/step - loss: 49.2324 - mape: 22.3756 - val_loss: 22.6029 - val_mape: 18.0622\n",
      "Epoch 82/1000\n",
      "12/12 [==============================] - 0s 7ms/step - loss: 48.8109 - mape: 22.5286 - val_loss: 22.6353 - val_mape: 18.1902\n",
      "Epoch 83/1000\n",
      "12/12 [==============================] - 0s 7ms/step - loss: 48.3279 - mape: 22.4877 - val_loss: 22.5297 - val_mape: 18.2566\n",
      "Epoch 84/1000\n",
      "12/12 [==============================] - 0s 5ms/step - loss: 47.8938 - mape: 22.1858 - val_loss: 22.4502 - val_mape: 18.3296\n",
      "Epoch 85/1000\n",
      "12/12 [==============================] - 0s 5ms/step - loss: 47.5253 - mape: 21.9783 - val_loss: 22.4165 - val_mape: 18.4086\n",
      "Epoch 86/1000\n",
      "12/12 [==============================] - 0s 5ms/step - loss: 47.1447 - mape: 21.8699 - val_loss: 22.3660 - val_mape: 18.5069\n",
      "Epoch 87/1000\n",
      "12/12 [==============================] - 0s 5ms/step - loss: 46.8151 - mape: 22.0192 - val_loss: 22.4294 - val_mape: 18.5852\n",
      "Epoch 88/1000\n",
      "12/12 [==============================] - 0s 5ms/step - loss: 46.3740 - mape: 21.9493 - val_loss: 22.3639 - val_mape: 18.6458\n",
      "Epoch 89/1000\n",
      "12/12 [==============================] - 0s 5ms/step - loss: 45.9529 - mape: 21.9790 - val_loss: 22.4045 - val_mape: 18.7574\n",
      "Epoch 90/1000\n",
      "12/12 [==============================] - 0s 5ms/step - loss: 45.5992 - mape: 21.9598 - val_loss: 22.3641 - val_mape: 18.8045\n",
      "Epoch 91/1000\n",
      "12/12 [==============================] - 0s 5ms/step - loss: 45.1892 - mape: 21.9421 - val_loss: 22.4319 - val_mape: 18.9573\n",
      "Epoch 92/1000\n",
      "12/12 [==============================] - 0s 7ms/step - loss: 44.7902 - mape: 22.0041 - val_loss: 22.4574 - val_mape: 19.0596\n",
      "Epoch 93/1000\n",
      "12/12 [==============================] - 0s 6ms/step - loss: 44.3940 - mape: 21.7176 - val_loss: 22.3163 - val_mape: 19.0464\n",
      "Epoch 94/1000\n",
      "12/12 [==============================] - 0s 6ms/step - loss: 44.0248 - mape: 21.3630 - val_loss: 22.2453 - val_mape: 19.0608\n",
      "Epoch 95/1000\n",
      "12/12 [==============================] - 0s 5ms/step - loss: 43.6599 - mape: 21.3140 - val_loss: 22.2589 - val_mape: 19.1100\n",
      "Epoch 96/1000\n",
      "12/12 [==============================] - 0s 5ms/step - loss: 43.3032 - mape: 21.2681 - val_loss: 22.2609 - val_mape: 19.1750\n",
      "Epoch 97/1000\n",
      "12/12 [==============================] - 0s 5ms/step - loss: 42.9303 - mape: 21.1888 - val_loss: 22.2259 - val_mape: 19.1914\n",
      "Epoch 98/1000\n",
      "12/12 [==============================] - 0s 5ms/step - loss: 42.6857 - mape: 20.7952 - val_loss: 22.1531 - val_mape: 19.2076\n",
      "Epoch 99/1000\n",
      "12/12 [==============================] - 0s 5ms/step - loss: 42.4018 - mape: 21.1263 - val_loss: 22.3012 - val_mape: 19.2428\n",
      "Epoch 100/1000\n",
      "12/12 [==============================] - 0s 5ms/step - loss: 41.9420 - mape: 21.3487 - val_loss: 22.2147 - val_mape: 19.2326\n",
      "Epoch 101/1000\n",
      "12/12 [==============================] - 0s 5ms/step - loss: 41.5883 - mape: 20.8844 - val_loss: 22.1455 - val_mape: 19.2365\n",
      "Epoch 102/1000\n",
      "12/12 [==============================] - 0s 5ms/step - loss: 41.2426 - mape: 20.6117 - val_loss: 22.1263 - val_mape: 19.2650\n",
      "Epoch 103/1000\n",
      "12/12 [==============================] - 0s 5ms/step - loss: 40.8741 - mape: 20.6824 - val_loss: 22.1976 - val_mape: 19.3268\n",
      "Epoch 104/1000\n",
      "12/12 [==============================] - 0s 5ms/step - loss: 40.5672 - mape: 20.7034 - val_loss: 22.1512 - val_mape: 19.3403\n",
      "Epoch 105/1000\n",
      "12/12 [==============================] - 0s 5ms/step - loss: 40.3421 - mape: 20.8415 - val_loss: 22.2913 - val_mape: 19.4758\n",
      "Epoch 106/1000\n",
      "12/12 [==============================] - 0s 5ms/step - loss: 39.9078 - mape: 20.6466 - val_loss: 22.2757 - val_mape: 19.4916\n",
      "Epoch 107/1000\n",
      "12/12 [==============================] - 0s 5ms/step - loss: 39.5180 - mape: 20.3669 - val_loss: 22.1973 - val_mape: 19.4537\n",
      "Epoch 108/1000\n",
      "12/12 [==============================] - 0s 6ms/step - loss: 39.2035 - mape: 20.0249 - val_loss: 22.1949 - val_mape: 19.5139\n",
      "Epoch 109/1000\n",
      "12/12 [==============================] - 0s 5ms/step - loss: 38.9149 - mape: 19.8618 - val_loss: 22.1537 - val_mape: 19.5077\n",
      "Epoch 110/1000\n",
      "12/12 [==============================] - 0s 5ms/step - loss: 38.6634 - mape: 20.2114 - val_loss: 22.3426 - val_mape: 19.6870\n",
      "Epoch 111/1000\n",
      "12/12 [==============================] - 0s 5ms/step - loss: 38.1955 - mape: 20.1038 - val_loss: 22.2643 - val_mape: 19.6342\n",
      "Epoch 112/1000\n",
      "12/12 [==============================] - 0s 5ms/step - loss: 37.8433 - mape: 20.0095 - val_loss: 22.3031 - val_mape: 19.6609\n",
      "Epoch 113/1000\n",
      "12/12 [==============================] - 0s 5ms/step - loss: 37.5505 - mape: 19.9675 - val_loss: 22.3225 - val_mape: 19.6840\n",
      "Epoch 114/1000\n",
      "12/12 [==============================] - 0s 5ms/step - loss: 37.1986 - mape: 19.8146 - val_loss: 22.3453 - val_mape: 19.6814\n",
      "Epoch 115/1000\n",
      "12/12 [==============================] - 0s 5ms/step - loss: 36.9211 - mape: 19.8401 - val_loss: 22.4071 - val_mape: 19.7423\n",
      "Epoch 116/1000\n",
      "12/12 [==============================] - 0s 7ms/step - loss: 36.5761 - mape: 19.8465 - val_loss: 22.4251 - val_mape: 19.7645\n",
      "Epoch 117/1000\n",
      "12/12 [==============================] - 0s 5ms/step - loss: 36.3830 - mape: 19.5991 - val_loss: 22.3797 - val_mape: 19.7073\n",
      "Epoch 118/1000\n",
      "12/12 [==============================] - 0s 5ms/step - loss: 35.9605 - mape: 19.7269 - val_loss: 22.4940 - val_mape: 19.8256\n",
      "Epoch 119/1000\n",
      "12/12 [==============================] - 0s 5ms/step - loss: 35.6659 - mape: 19.9082 - val_loss: 22.5275 - val_mape: 19.8577\n",
      "Epoch 120/1000\n",
      "12/12 [==============================] - 0s 5ms/step - loss: 35.3076 - mape: 19.6742 - val_loss: 22.4979 - val_mape: 19.8328\n",
      "Epoch 121/1000\n",
      "12/12 [==============================] - 0s 7ms/step - loss: 35.0251 - mape: 19.1869 - val_loss: 22.5269 - val_mape: 19.8611\n",
      "Epoch 122/1000\n",
      "12/12 [==============================] - 0s 6ms/step - loss: 34.6826 - mape: 19.1011 - val_loss: 22.6204 - val_mape: 19.9259\n",
      "Epoch 123/1000\n",
      "12/12 [==============================] - 0s 5ms/step - loss: 34.4035 - mape: 19.1741 - val_loss: 22.6383 - val_mape: 19.9315\n",
      "Epoch 124/1000\n",
      "12/12 [==============================] - 0s 6ms/step - loss: 34.0987 - mape: 19.0359 - val_loss: 22.5998 - val_mape: 19.8850\n",
      "Epoch 125/1000\n",
      "12/12 [==============================] - 0s 5ms/step - loss: 33.9830 - mape: 19.1934 - val_loss: 22.6963 - val_mape: 19.9718\n",
      "Epoch 126/1000\n",
      "12/12 [==============================] - 0s 5ms/step - loss: 33.5244 - mape: 19.0739 - val_loss: 22.7229 - val_mape: 19.9998\n",
      "Epoch 127/1000\n",
      "12/12 [==============================] - 0s 7ms/step - loss: 33.2917 - mape: 18.7756 - val_loss: 22.7283 - val_mape: 19.9726\n",
      "Epoch 128/1000\n",
      "12/12 [==============================] - 0s 5ms/step - loss: 32.9531 - mape: 18.6962 - val_loss: 22.7465 - val_mape: 19.9935\n",
      "Epoch 129/1000\n",
      "12/12 [==============================] - 0s 6ms/step - loss: 32.7300 - mape: 18.8662 - val_loss: 22.7277 - val_mape: 19.9848\n",
      "Epoch 130/1000\n",
      "12/12 [==============================] - 0s 5ms/step - loss: 32.4585 - mape: 18.8757 - val_loss: 22.7754 - val_mape: 20.0123\n",
      "Epoch 131/1000\n",
      "12/12 [==============================] - 0s 5ms/step - loss: 32.1287 - mape: 18.6774 - val_loss: 22.7407 - val_mape: 20.0024\n",
      "Epoch 132/1000\n",
      "12/12 [==============================] - 0s 6ms/step - loss: 31.8972 - mape: 18.4774 - val_loss: 22.7527 - val_mape: 20.0177\n",
      "Epoch 133/1000\n",
      "12/12 [==============================] - 0s 5ms/step - loss: 31.6121 - mape: 18.5084 - val_loss: 22.7756 - val_mape: 20.0383\n",
      "Epoch 134/1000\n",
      "12/12 [==============================] - 0s 7ms/step - loss: 31.3409 - mape: 18.5727 - val_loss: 22.8280 - val_mape: 20.0849\n",
      "Epoch 135/1000\n",
      "12/12 [==============================] - 0s 6ms/step - loss: 31.1214 - mape: 18.6273 - val_loss: 22.8230 - val_mape: 20.0866\n",
      "Epoch 136/1000\n",
      "12/12 [==============================] - 0s 8ms/step - loss: 30.8528 - mape: 18.3072 - val_loss: 22.7752 - val_mape: 20.0198\n",
      "Epoch 137/1000\n",
      "12/12 [==============================] - 0s 7ms/step - loss: 30.6317 - mape: 18.2694 - val_loss: 22.7876 - val_mape: 20.0565\n",
      "Epoch 138/1000\n",
      "12/12 [==============================] - 0s 5ms/step - loss: 30.3974 - mape: 18.0101 - val_loss: 22.7896 - val_mape: 20.0322\n",
      "Epoch 139/1000\n",
      "12/12 [==============================] - 0s 5ms/step - loss: 30.1496 - mape: 18.1309 - val_loss: 22.7693 - val_mape: 20.0518\n",
      "Epoch 140/1000\n",
      "12/12 [==============================] - 0s 5ms/step - loss: 29.8398 - mape: 18.2182 - val_loss: 22.8597 - val_mape: 20.0932\n",
      "Epoch 141/1000\n",
      "12/12 [==============================] - 0s 5ms/step - loss: 29.5921 - mape: 18.2453 - val_loss: 22.9115 - val_mape: 20.1311\n",
      "Epoch 142/1000\n",
      "12/12 [==============================] - 0s 7ms/step - loss: 29.3705 - mape: 18.2081 - val_loss: 22.8801 - val_mape: 20.1013\n",
      "Epoch 143/1000\n",
      "12/12 [==============================] - 0s 5ms/step - loss: 29.1397 - mape: 17.9615 - val_loss: 22.9628 - val_mape: 20.0994\n",
      "Epoch 144/1000\n",
      "12/12 [==============================] - 0s 5ms/step - loss: 28.9571 - mape: 17.6809 - val_loss: 22.9430 - val_mape: 20.0792\n",
      "Epoch 145/1000\n",
      "12/12 [==============================] - 0s 5ms/step - loss: 28.7518 - mape: 17.8366 - val_loss: 22.9751 - val_mape: 20.1171\n",
      "Epoch 146/1000\n",
      "12/12 [==============================] - 0s 5ms/step - loss: 28.5228 - mape: 17.8079 - val_loss: 22.9544 - val_mape: 20.0781\n",
      "Epoch 147/1000\n",
      "12/12 [==============================] - 0s 6ms/step - loss: 28.3494 - mape: 17.8820 - val_loss: 23.0500 - val_mape: 20.1538\n",
      "Epoch 148/1000\n",
      "12/12 [==============================] - 0s 5ms/step - loss: 28.0793 - mape: 17.7722 - val_loss: 23.0970 - val_mape: 20.1547\n",
      "Epoch 149/1000\n",
      "12/12 [==============================] - 0s 5ms/step - loss: 27.8757 - mape: 17.8003 - val_loss: 23.1362 - val_mape: 20.1656\n",
      "Epoch 150/1000\n",
      "12/12 [==============================] - 0s 6ms/step - loss: 27.7228 - mape: 17.6492 - val_loss: 23.2548 - val_mape: 20.2176\n",
      "Epoch 151/1000\n",
      "12/12 [==============================] - 0s 6ms/step - loss: 27.5150 - mape: 17.5500 - val_loss: 23.3242 - val_mape: 20.2389\n",
      "Epoch 152/1000\n",
      "12/12 [==============================] - 0s 5ms/step - loss: 27.3067 - mape: 17.4663 - val_loss: 23.3900 - val_mape: 20.2685\n"
     ]
    }
   ],
   "source": [
    "history = model.fit(X_train,y_train,epochs = 1000 ,verbose = 1,validation_split=0.1,callbacks=[early_stop])"
   ]
  },
  {
   "cell_type": "code",
   "execution_count": 44,
   "metadata": {
    "colab": {
     "base_uri": "https://localhost:8080/",
     "height": 424
    },
    "id": "20RQn0uDYAe3",
    "outputId": "4108decb-79c7-470f-baf0-8cae3bb1bdf0"
   },
   "outputs": [
    {
     "data": {
      "text/html": [
       "\n",
       "  <div id=\"df-573ad52e-e1c3-467c-baf2-05d9241a5596\">\n",
       "    <div class=\"colab-df-container\">\n",
       "      <div>\n",
       "<style scoped>\n",
       "    .dataframe tbody tr th:only-of-type {\n",
       "        vertical-align: middle;\n",
       "    }\n",
       "\n",
       "    .dataframe tbody tr th {\n",
       "        vertical-align: top;\n",
       "    }\n",
       "\n",
       "    .dataframe thead th {\n",
       "        text-align: right;\n",
       "    }\n",
       "</style>\n",
       "<table border=\"1\" class=\"dataframe\">\n",
       "  <thead>\n",
       "    <tr style=\"text-align: right;\">\n",
       "      <th></th>\n",
       "      <th>loss</th>\n",
       "      <th>mape</th>\n",
       "      <th>val_loss</th>\n",
       "      <th>val_mape</th>\n",
       "    </tr>\n",
       "  </thead>\n",
       "  <tbody>\n",
       "    <tr>\n",
       "      <th>0</th>\n",
       "      <td>616.279846</td>\n",
       "      <td>102.983223</td>\n",
       "      <td>518.740967</td>\n",
       "      <td>102.049438</td>\n",
       "    </tr>\n",
       "    <tr>\n",
       "      <th>1</th>\n",
       "      <td>605.717834</td>\n",
       "      <td>101.585732</td>\n",
       "      <td>510.061066</td>\n",
       "      <td>100.844299</td>\n",
       "    </tr>\n",
       "    <tr>\n",
       "      <th>2</th>\n",
       "      <td>596.657227</td>\n",
       "      <td>100.319817</td>\n",
       "      <td>502.188965</td>\n",
       "      <td>99.715195</td>\n",
       "    </tr>\n",
       "    <tr>\n",
       "      <th>3</th>\n",
       "      <td>587.854370</td>\n",
       "      <td>99.112106</td>\n",
       "      <td>494.121033</td>\n",
       "      <td>98.522141</td>\n",
       "    </tr>\n",
       "    <tr>\n",
       "      <th>4</th>\n",
       "      <td>578.424377</td>\n",
       "      <td>97.835991</td>\n",
       "      <td>484.635040</td>\n",
       "      <td>97.081993</td>\n",
       "    </tr>\n",
       "    <tr>\n",
       "      <th>...</th>\n",
       "      <td>...</td>\n",
       "      <td>...</td>\n",
       "      <td>...</td>\n",
       "      <td>...</td>\n",
       "    </tr>\n",
       "    <tr>\n",
       "      <th>147</th>\n",
       "      <td>28.079330</td>\n",
       "      <td>17.772213</td>\n",
       "      <td>23.096954</td>\n",
       "      <td>20.154692</td>\n",
       "    </tr>\n",
       "    <tr>\n",
       "      <th>148</th>\n",
       "      <td>27.875660</td>\n",
       "      <td>17.800339</td>\n",
       "      <td>23.136236</td>\n",
       "      <td>20.165642</td>\n",
       "    </tr>\n",
       "    <tr>\n",
       "      <th>149</th>\n",
       "      <td>27.722818</td>\n",
       "      <td>17.649225</td>\n",
       "      <td>23.254776</td>\n",
       "      <td>20.217607</td>\n",
       "    </tr>\n",
       "    <tr>\n",
       "      <th>150</th>\n",
       "      <td>27.514977</td>\n",
       "      <td>17.550028</td>\n",
       "      <td>23.324198</td>\n",
       "      <td>20.238914</td>\n",
       "    </tr>\n",
       "    <tr>\n",
       "      <th>151</th>\n",
       "      <td>27.306698</td>\n",
       "      <td>17.466339</td>\n",
       "      <td>23.390022</td>\n",
       "      <td>20.268547</td>\n",
       "    </tr>\n",
       "  </tbody>\n",
       "</table>\n",
       "<p>152 rows × 4 columns</p>\n",
       "</div>\n",
       "      <button class=\"colab-df-convert\" onclick=\"convertToInteractive('df-573ad52e-e1c3-467c-baf2-05d9241a5596')\"\n",
       "              title=\"Convert this dataframe to an interactive table.\"\n",
       "              style=\"display:none;\">\n",
       "        \n",
       "  <svg xmlns=\"http://www.w3.org/2000/svg\" height=\"24px\"viewBox=\"0 0 24 24\"\n",
       "       width=\"24px\">\n",
       "    <path d=\"M0 0h24v24H0V0z\" fill=\"none\"/>\n",
       "    <path d=\"M18.56 5.44l.94 2.06.94-2.06 2.06-.94-2.06-.94-.94-2.06-.94 2.06-2.06.94zm-11 1L8.5 8.5l.94-2.06 2.06-.94-2.06-.94L8.5 2.5l-.94 2.06-2.06.94zm10 10l.94 2.06.94-2.06 2.06-.94-2.06-.94-.94-2.06-.94 2.06-2.06.94z\"/><path d=\"M17.41 7.96l-1.37-1.37c-.4-.4-.92-.59-1.43-.59-.52 0-1.04.2-1.43.59L10.3 9.45l-7.72 7.72c-.78.78-.78 2.05 0 2.83L4 21.41c.39.39.9.59 1.41.59.51 0 1.02-.2 1.41-.59l7.78-7.78 2.81-2.81c.8-.78.8-2.07 0-2.86zM5.41 20L4 18.59l7.72-7.72 1.47 1.35L5.41 20z\"/>\n",
       "  </svg>\n",
       "      </button>\n",
       "      \n",
       "  <style>\n",
       "    .colab-df-container {\n",
       "      display:flex;\n",
       "      flex-wrap:wrap;\n",
       "      gap: 12px;\n",
       "    }\n",
       "\n",
       "    .colab-df-convert {\n",
       "      background-color: #E8F0FE;\n",
       "      border: none;\n",
       "      border-radius: 50%;\n",
       "      cursor: pointer;\n",
       "      display: none;\n",
       "      fill: #1967D2;\n",
       "      height: 32px;\n",
       "      padding: 0 0 0 0;\n",
       "      width: 32px;\n",
       "    }\n",
       "\n",
       "    .colab-df-convert:hover {\n",
       "      background-color: #E2EBFA;\n",
       "      box-shadow: 0px 1px 2px rgba(60, 64, 67, 0.3), 0px 1px 3px 1px rgba(60, 64, 67, 0.15);\n",
       "      fill: #174EA6;\n",
       "    }\n",
       "\n",
       "    [theme=dark] .colab-df-convert {\n",
       "      background-color: #3B4455;\n",
       "      fill: #D2E3FC;\n",
       "    }\n",
       "\n",
       "    [theme=dark] .colab-df-convert:hover {\n",
       "      background-color: #434B5C;\n",
       "      box-shadow: 0px 1px 3px 1px rgba(0, 0, 0, 0.15);\n",
       "      filter: drop-shadow(0px 1px 2px rgba(0, 0, 0, 0.3));\n",
       "      fill: #FFFFFF;\n",
       "    }\n",
       "  </style>\n",
       "\n",
       "      <script>\n",
       "        const buttonEl =\n",
       "          document.querySelector('#df-573ad52e-e1c3-467c-baf2-05d9241a5596 button.colab-df-convert');\n",
       "        buttonEl.style.display =\n",
       "          google.colab.kernel.accessAllowed ? 'block' : 'none';\n",
       "\n",
       "        async function convertToInteractive(key) {\n",
       "          const element = document.querySelector('#df-573ad52e-e1c3-467c-baf2-05d9241a5596');\n",
       "          const dataTable =\n",
       "            await google.colab.kernel.invokeFunction('convertToInteractive',\n",
       "                                                     [key], {});\n",
       "          if (!dataTable) return;\n",
       "\n",
       "          const docLinkHtml = 'Like what you see? Visit the ' +\n",
       "            '<a target=\"_blank\" href=https://colab.research.google.com/notebooks/data_table.ipynb>data table notebook</a>'\n",
       "            + ' to learn more about interactive tables.';\n",
       "          element.innerHTML = '';\n",
       "          dataTable['output_type'] = 'display_data';\n",
       "          await google.colab.output.renderOutput(dataTable, element);\n",
       "          const docLink = document.createElement('div');\n",
       "          docLink.innerHTML = docLinkHtml;\n",
       "          element.appendChild(docLink);\n",
       "        }\n",
       "      </script>\n",
       "    </div>\n",
       "  </div>\n",
       "  "
      ],
      "text/plain": [
       "           loss        mape    val_loss    val_mape\n",
       "0    616.279846  102.983223  518.740967  102.049438\n",
       "1    605.717834  101.585732  510.061066  100.844299\n",
       "2    596.657227  100.319817  502.188965   99.715195\n",
       "3    587.854370   99.112106  494.121033   98.522141\n",
       "4    578.424377   97.835991  484.635040   97.081993\n",
       "..          ...         ...         ...         ...\n",
       "147   28.079330   17.772213   23.096954   20.154692\n",
       "148   27.875660   17.800339   23.136236   20.165642\n",
       "149   27.722818   17.649225   23.254776   20.217607\n",
       "150   27.514977   17.550028   23.324198   20.238914\n",
       "151   27.306698   17.466339   23.390022   20.268547\n",
       "\n",
       "[152 rows x 4 columns]"
      ]
     },
     "execution_count": 44,
     "metadata": {},
     "output_type": "execute_result"
    }
   ],
   "source": [
    "df = pd.DataFrame.from_dict(history.history)\n",
    "df"
   ]
  },
  {
   "cell_type": "code",
   "execution_count": 48,
   "metadata": {
    "colab": {
     "base_uri": "https://localhost:8080/",
     "height": 447
    },
    "id": "NM0AZBSqYAh8",
    "outputId": "a182503f-30b1-41c9-dded-3d1b92b4b1bf"
   },
   "outputs": [
    {
     "data": {
      "text/plain": [
       "<AxesSubplot:>"
      ]
     },
     "execution_count": 48,
     "metadata": {},
     "output_type": "execute_result"
    },
    {
     "data": {
      "image/png": "[encoded data removed]",
      "text/plain": [
       "<Figure size 640x480 with 1 Axes>"
      ]
     },
     "metadata": {},
     "output_type": "display_data"
    }
   ],
   "source": [
    "df[[\"loss\",\"val_loss\"]].plot()"
   ]
  },
  {
   "cell_type": "code",
   "execution_count": 39,
   "metadata": {
    "id": "IuuCgaHlYAkU"
   },
   "outputs": [],
   "source": [
    " "
   ]
  },
  {
   "cell_type": "code",
   "execution_count": 39,
   "metadata": {
    "id": "8W1SxmWjYAmv"
   },
   "outputs": [],
   "source": []
  },
  {
   "cell_type": "code",
   "execution_count": 39,
   "metadata": {
    "id": "ubq64__vYApD"
   },
   "outputs": [],
   "source": []
  },
  {
   "cell_type": "code",
   "execution_count": 39,
   "metadata": {
    "id": "NOX6d7SSYArV"
   },
   "outputs": [],
   "source": []
  },
  {
   "cell_type": "code",
   "execution_count": 39,
   "metadata": {
    "id": "1jtVNBeHYAt7"
   },
   "outputs": [],
   "source": []
  },
  {
   "cell_type": "code",
   "execution_count": 39,
   "metadata": {
    "id": "0TQdGIqNYAwY"
   },
   "outputs": [],
   "source": []
  },
  {
   "cell_type": "code",
   "execution_count": 39,
   "metadata": {
    "id": "sqcOrSBQYAzJ"
   },
   "outputs": [],
   "source": []
  },
  {
   "cell_type": "code",
   "execution_count": 39,
   "metadata": {
    "id": "5_xE9Q9CYA1t"
   },
   "outputs": [],
   "source": []
  },
  {
   "cell_type": "code",
   "execution_count": 39,
   "metadata": {
    "id": "Ju4037LEYA4e"
   },
   "outputs": [],
   "source": []
  },
  {
   "cell_type": "code",
   "execution_count": 39,
   "metadata": {
    "id": "CfSNrFSbYA66"
   },
   "outputs": [],
   "source": []
  },
  {
   "cell_type": "code",
   "execution_count": 39,
   "metadata": {
    "id": "YzuVCLqtYA9k"
   },
   "outputs": [],
   "source": []
  },
  {
   "cell_type": "code",
   "execution_count": 39,
   "metadata": {
    "id": "pKVAfSzEYBAZ"
   },
   "outputs": [],
   "source": []
  },
  {
   "cell_type": "code",
   "execution_count": 39,
   "metadata": {
    "id": "TAW6jLNkYBC-"
   },
   "outputs": [],
   "source": []
  },
  {
   "cell_type": "code",
   "execution_count": 39,
   "metadata": {
    "id": "zfReYHY_YBFg"
   },
   "outputs": [],
   "source": []
  },
  {
   "cell_type": "code",
   "execution_count": 39,
   "metadata": {
    "id": "g6XIhthsYBH7"
   },
   "outputs": [],
   "source": []
  },
  {
   "cell_type": "code",
   "execution_count": 39,
   "metadata": {
    "id": "c5Qz2QcRiJ7A"
   },
   "outputs": [],
   "source": []
  },
  {
   "cell_type": "code",
   "execution_count": 39,
   "metadata": {
    "id": "FycUlYAQiJ4Y"
   },
   "outputs": [],
   "source": []
  },
  {
   "cell_type": "code",
   "execution_count": 39,
   "metadata": {
    "id": "9E324MpZiJ1w"
   },
   "outputs": [],
   "source": []
  },
  {
   "cell_type": "code",
   "execution_count": 39,
   "metadata": {
    "id": "m0jTun4RiJy_"
   },
   "outputs": [],
   "source": []
  },
  {
   "cell_type": "code",
   "execution_count": 39,
   "metadata": {
    "id": "9tBTzqM1iJw1"
   },
   "outputs": [],
   "source": []
  },
  {
   "cell_type": "code",
   "execution_count": 39,
   "metadata": {
    "id": "Ee4l6_t9iJuP"
   },
   "outputs": [],
   "source": []
  },
  {
   "cell_type": "code",
   "execution_count": 39,
   "metadata": {
    "id": "Mtpb8BY0iJr7"
   },
   "outputs": [],
   "source": []
  },
  {
   "cell_type": "code",
   "execution_count": 39,
   "metadata": {
    "id": "iPXp_b9diJpi"
   },
   "outputs": [],
   "source": []
  },
  {
   "cell_type": "code",
   "execution_count": 39,
   "metadata": {
    "id": "y9c3yYkiiJnb"
   },
   "outputs": [],
   "source": []
  },
  {
   "cell_type": "code",
   "execution_count": 39,
   "metadata": {
    "id": "xJ6BfBKjiJk9"
   },
   "outputs": [],
   "source": []
  },
  {
   "cell_type": "code",
   "execution_count": 39,
   "metadata": {
    "id": "fTZMyfI6iJif"
   },
   "outputs": [],
   "source": []
  },
  {
   "cell_type": "code",
   "execution_count": 39,
   "metadata": {
    "id": "YdNLVeYtiJf9"
   },
   "outputs": [],
   "source": []
  },
  {
   "cell_type": "code",
   "execution_count": 39,
   "metadata": {
    "id": "89UjEvHkiJdl"
   },
   "outputs": [],
   "source": []
  },
  {
   "cell_type": "code",
   "execution_count": 39,
   "metadata": {
    "id": "plqZ5RAr6ss6"
   },
   "outputs": [],
   "source": []
  }
 ],
 "metadata": {
  "colab": {
   "provenance": []
  },
  "kernelspec": {
   "display_name": "Python 3 (ipykernel)",
   "language": "python",
   "name": "python3"
  },
  "language_info": {
   "codemirror_mode": {
    "name": "ipython",
    "version": 3
   },
   "file_extension": ".py",
   "mimetype": "text/x-python",
   "name": "python",
   "nbconvert_exporter": "python",
   "pygments_lexer": "ipython3",
   "version": "3.9.7"
  }
 },
 "nbformat": 4,
 "nbformat_minor": 1
}
